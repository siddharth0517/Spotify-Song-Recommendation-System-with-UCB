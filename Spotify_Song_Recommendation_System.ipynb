{
  "nbformat": 4,
  "nbformat_minor": 0,
  "metadata": {
    "colab": {
      "provenance": [],
      "toc_visible": true,
      "authorship_tag": "ABX9TyN/IEL7NqmFy8EbB/fO/Jl4",
      "include_colab_link": true
    },
    "kernelspec": {
      "name": "python3",
      "display_name": "Python 3"
    },
    "language_info": {
      "name": "python"
    }
  },
  "cells": [
    {
      "cell_type": "markdown",
      "metadata": {
        "id": "view-in-github",
        "colab_type": "text"
      },
      "source": [
        "<a href=\"https://colab.research.google.com/github/siddharth0517/Spotify-Song-Recommendation-System-with-UCB/blob/main/Spotify_Song_Recommendation_System.ipynb\" target=\"_parent\"><img src=\"https://colab.research.google.com/assets/colab-badge.svg\" alt=\"Open In Colab\"/></a>"
      ]
    },
    {
      "cell_type": "markdown",
      "source": [
        "# Spotify Song Recommendation System with UCB\n"
      ],
      "metadata": {
        "id": "orMi3-ThVUhy"
      }
    },
    {
      "cell_type": "code",
      "execution_count": 1,
      "metadata": {
        "colab": {
          "base_uri": "https://localhost:8080/"
        },
        "id": "PviOckx6VSJb",
        "outputId": "912afe24-9088-4b4c-ac7b-04f3440aaa85"
      },
      "outputs": [
        {
          "output_type": "stream",
          "name": "stdout",
          "text": [
            "Collecting spotipy\n",
            "  Downloading spotipy-2.24.0-py3-none-any.whl.metadata (4.9 kB)\n",
            "Collecting redis>=3.5.3 (from spotipy)\n",
            "  Downloading redis-5.1.1-py3-none-any.whl.metadata (9.1 kB)\n",
            "Requirement already satisfied: requests>=2.25.0 in /usr/local/lib/python3.10/dist-packages (from spotipy) (2.32.3)\n",
            "Requirement already satisfied: urllib3>=1.26.0 in /usr/local/lib/python3.10/dist-packages (from spotipy) (2.2.3)\n",
            "Requirement already satisfied: async-timeout>=4.0.3 in /usr/local/lib/python3.10/dist-packages (from redis>=3.5.3->spotipy) (4.0.3)\n",
            "Requirement already satisfied: charset-normalizer<4,>=2 in /usr/local/lib/python3.10/dist-packages (from requests>=2.25.0->spotipy) (3.3.2)\n",
            "Requirement already satisfied: idna<4,>=2.5 in /usr/local/lib/python3.10/dist-packages (from requests>=2.25.0->spotipy) (3.10)\n",
            "Requirement already satisfied: certifi>=2017.4.17 in /usr/local/lib/python3.10/dist-packages (from requests>=2.25.0->spotipy) (2024.8.30)\n",
            "Downloading spotipy-2.24.0-py3-none-any.whl (30 kB)\n",
            "Downloading redis-5.1.1-py3-none-any.whl (261 kB)\n",
            "\u001b[2K   \u001b[90m━━━━━━━━━━━━━━━━━━━━━━━━━━━━━━━━━━━━━━━━\u001b[0m \u001b[32m261.3/261.3 kB\u001b[0m \u001b[31m8.7 MB/s\u001b[0m eta \u001b[36m0:00:00\u001b[0m\n",
            "\u001b[?25hInstalling collected packages: redis, spotipy\n",
            "Successfully installed redis-5.1.1 spotipy-2.24.0\n"
          ]
        }
      ],
      "source": [
        "pip install spotipy"
      ]
    },
    {
      "cell_type": "markdown",
      "source": [
        "**1. Importing Libraries**"
      ],
      "metadata": {
        "id": "J5Gb-mulcVbT"
      }
    },
    {
      "cell_type": "code",
      "source": [
        "import math\n",
        "import spotipy\n",
        "from spotipy.oauth2 import SpotifyClientCredentials"
      ],
      "metadata": {
        "id": "flrW_-f8cYNB"
      },
      "execution_count": 2,
      "outputs": []
    },
    {
      "cell_type": "markdown",
      "source": [
        "**2. Authenticate with Spotify**"
      ],
      "metadata": {
        "id": "A3DYwtAHcZto"
      }
    },
    {
      "cell_type": "code",
      "source": [
        "client_id = \"your-client-id\"\n",
        "client_secret = \"your-client-secret\"\n",
        "\n",
        "\n",
        "sp = spotipy.Spotify(auth_manager=SpotifyClientCredentials(client_id=client_id,\n",
        "                                                           client_secret=client_secret))\n"
      ],
      "metadata": {
        "id": "xAMBd1NKVc_5"
      },
      "execution_count": 3,
      "outputs": []
    },
    {
      "cell_type": "markdown",
      "source": [
        "**3. Function to fetch Songs**"
      ],
      "metadata": {
        "id": "3o9TSkircmK1"
      }
    },
    {
      "cell_type": "code",
      "source": [
        "results = sp.search(q='genre:rock', type='track', limit=20)\n",
        "tracks = results['tracks']['items']\n",
        "song_data = []\n",
        "for track in tracks:\n",
        "    song_features = sp.audio_features(track['id'])[0]\n",
        "    song_data.append({\n",
        "        'name': track['name'],\n",
        "        'id': track['id'],\n",
        "        'popularity': track['popularity'],\n",
        "        'energy': song_features['energy'],\n",
        "        'valence': song_features['valence'],\n",
        "        'tempo': song_features['tempo']\n",
        "    })\n"
      ],
      "metadata": {
        "id": "fWd8zUCWVtg-"
      },
      "execution_count": 14,
      "outputs": []
    },
    {
      "cell_type": "markdown",
      "source": [
        "**4. UCB implementation for recommending songs**"
      ],
      "metadata": {
        "id": "1GLLMSALdFQc"
      }
    },
    {
      "cell_type": "code",
      "source": [
        "import math\n",
        "\n",
        "class UCBRecommender:\n",
        "    def __init__(self, song_data):\n",
        "        self.song_data = song_data\n",
        "        self.song_rewards = [0] * len(song_data)\n",
        "        self.song_selections = [0] * len(song_data)\n",
        "        self.total_selections = 0\n",
        "\n",
        "    def recommend_song(self):\n",
        "        song_index = 0\n",
        "        max_upper_bound = 0\n",
        "        for i in range(len(self.song_data)):\n",
        "            if self.song_selections[i] > 0:\n",
        "                avg_reward = self.song_rewards[i] / self.song_selections[i]\n",
        "                delta = math.sqrt(3/2 * math.log(self.total_selections + 1) / self.song_selections[i])\n",
        "                upper_bound = avg_reward + delta\n",
        "            else:\n",
        "                upper_bound = 1e400  # Explore unselected songs\n",
        "            if upper_bound > max_upper_bound:\n",
        "                max_upper_bound = upper_bound\n",
        "                song_index = i\n",
        "\n",
        "        self.song_selections[song_index] += 1\n",
        "        self.total_selections += 1\n",
        "\n",
        "        return self.song_data[song_index]\n"
      ],
      "metadata": {
        "id": "zr-L9nN4W97f"
      },
      "execution_count": 15,
      "outputs": []
    },
    {
      "cell_type": "markdown",
      "source": [
        "** Feedback Based on Time of Day**"
      ],
      "metadata": {
        "id": "owOVAzn0zYAU"
      }
    },
    {
      "cell_type": "code",
      "source": [
        "from datetime import datetime\n",
        "\n",
        "def user_feedback(song):\n",
        "\n",
        "    current_hour = datetime.now().hour\n",
        "\n",
        "\n",
        "    popularity_weight = 0.2\n",
        "    energy_weight = 0.0\n",
        "    valence_weight = 0.0\n",
        "    tempo_weight = 0.0\n",
        "\n",
        "\n",
        "    if 6 <= current_hour < 18:\n",
        "\n",
        "        energy_weight = 0.5\n",
        "        valence_weight = 0.3\n",
        "    else:\n",
        "\n",
        "        tempo_weight = 0.5\n",
        "        valence_weight = 0.3\n",
        "\n",
        "\n",
        "    popularity_score = song['popularity'] / 100\n",
        "    energy_score = song['energy']\n",
        "    valence_score = song['valence']\n",
        "    tempo_score = song['tempo'] / 200\n",
        "\n",
        "    total_score = (popularity_weight * popularity_score +\n",
        "                   energy_weight * energy_score +\n",
        "                   valence_weight * valence_score +\n",
        "                   tempo_weight * tempo_score)\n",
        "\n",
        "\n",
        "    return 1 if total_score > 0.7 else 0\n"
      ],
      "metadata": {
        "id": "Jtdj-YI-xdVB"
      },
      "execution_count": 16,
      "outputs": []
    },
    {
      "cell_type": "code",
      "source": [
        "ucb_recommender = UCBRecommender(song_data)\n",
        "\n",
        "for _ in range(25):\n",
        "    recommended_song = ucb_recommender.recommend_song()\n",
        "    print(f\"Recommended: {recommended_song['name']}\")\n",
        "    reward = user_feedback(recommended_song)\n",
        "    song_index = song_data.index(recommended_song)\n",
        "    ucb_recommender.song_rewards[song_index] += reward\n"
      ],
      "metadata": {
        "colab": {
          "base_uri": "https://localhost:8080/"
        },
        "id": "Vh1TWO5edUi7",
        "outputId": "fac276da-19ad-44c6-f3c8-f34acb75ce87"
      },
      "execution_count": 18,
      "outputs": [
        {
          "output_type": "stream",
          "name": "stdout",
          "text": [
            "Recommended: Sweater Weather\n",
            "Recommended: 505\n",
            "Recommended: Mr. Brightside\n",
            "Recommended: Dreams - 2004 Remaster\n",
            "Recommended: Take Me to Church\n",
            "Recommended: Rich Girl\n",
            "Recommended: Evergreen\n",
            "Recommended: I Wanna Be Yours\n",
            "Recommended: Linger\n",
            "Recommended: Brown Eyed Girl\n",
            "Recommended: Cigarette Daydreams\n",
            "Recommended: Iris\n",
            "Recommended: The Emptiness Machine\n",
            "Recommended: Too Sweet\n",
            "Recommended: Work Song\n",
            "Recommended: Creep\n",
            "Recommended: Don't Stop Believin' (2022 Remaster)\n",
            "Recommended: Numb\n",
            "Recommended: Fortunate Son\n",
            "Recommended: Everlong\n",
            "Recommended: Sweater Weather\n",
            "Recommended: Rich Girl\n",
            "Recommended: Brown Eyed Girl\n",
            "Recommended: The Emptiness Machine\n",
            "Recommended: Too Sweet\n"
          ]
        }
      ]
    },
    {
      "cell_type": "code",
      "source": [
        "import matplotlib.pyplot as plt\n",
        "\n",
        "plt.bar(range(len(song_data)), ucb_recommender.song_selections)\n",
        "plt.xlabel('Song Index')\n",
        "plt.ylabel('Number of Recommendations')\n",
        "plt.show()\n"
      ],
      "metadata": {
        "colab": {
          "base_uri": "https://localhost:8080/",
          "height": 449
        },
        "id": "2_CjdiTdXU6K",
        "outputId": "3f4e28b8-3956-41b5-b307-6a81aaa59ee4"
      },
      "execution_count": 19,
      "outputs": [
        {
          "output_type": "display_data",
          "data": {
            "text/plain": [
              "<Figure size 640x480 with 1 Axes>"
            ],
            "image/png": "[encoded data removed]"
          },
          "metadata": {}
        }
      ]
    },
    {
      "cell_type": "code",
      "source": [],
      "metadata": {
        "id": "_exgFttk0Sik"
      },
      "execution_count": null,
      "outputs": []
    }
  ]
}